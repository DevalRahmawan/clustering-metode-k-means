{
 "cells": [
  {
   "cell_type": "code",
   "execution_count": 1,
   "metadata": {},
   "outputs": [],
   "source": [
    "#import libarary yang akan digunakan\n",
    "import matplotlib.pyplot as plt \n",
    "import pandas as pd\n",
    "import numpy as np\n",
    "from sklearn.cluster import KMeans"
   ]
  },
  {
   "cell_type": "code",
   "execution_count": 2,
   "metadata": {},
   "outputs": [
    {
     "data": {
      "text/plain": [
       "Index(['hair', 'feathers', 'eggs', 'milk', 'airborne', 'aquatic', 'predator',\n",
       "       'toothed', 'backbone', 'breathes', 'venomous', 'fins', 'legs', 'tail',\n",
       "       'domestic', 'catsize'],\n",
       "      dtype='object')"
      ]
     },
     "execution_count": 2,
     "metadata": {},
     "output_type": "execute_result"
    }
   ],
   "source": [
    "#menyiap data dan memanggil data set\n",
    "import pandas as pd\n",
    "import numpy as np\n",
    "\n",
    "#membaca data\n",
    "dataset = pd.read_csv(\"Zoo.csv\")\n",
    "dataset.keys()"
   ]
  },
  {
   "cell_type": "code",
   "execution_count": 3,
   "metadata": {},
   "outputs": [
    {
     "data": {
      "text/html": [
       "<div>\n",
       "<style scoped>\n",
       "    .dataframe tbody tr th:only-of-type {\n",
       "        vertical-align: middle;\n",
       "    }\n",
       "\n",
       "    .dataframe tbody tr th {\n",
       "        vertical-align: top;\n",
       "    }\n",
       "\n",
       "    .dataframe thead th {\n",
       "        text-align: right;\n",
       "    }\n",
       "</style>\n",
       "<table border=\"1\" class=\"dataframe\">\n",
       "  <thead>\n",
       "    <tr style=\"text-align: right;\">\n",
       "      <th></th>\n",
       "      <th>hair</th>\n",
       "      <th>feathers</th>\n",
       "      <th>eggs</th>\n",
       "      <th>milk</th>\n",
       "      <th>airborne</th>\n",
       "      <th>aquatic</th>\n",
       "      <th>predator</th>\n",
       "      <th>toothed</th>\n",
       "      <th>backbone</th>\n",
       "      <th>breathes</th>\n",
       "      <th>venomous</th>\n",
       "      <th>fins</th>\n",
       "      <th>legs</th>\n",
       "      <th>tail</th>\n",
       "      <th>domestic</th>\n",
       "      <th>catsize</th>\n",
       "    </tr>\n",
       "  </thead>\n",
       "  <tbody>\n",
       "    <tr>\n",
       "      <th>0</th>\n",
       "      <td>1</td>\n",
       "      <td>0</td>\n",
       "      <td>0</td>\n",
       "      <td>1</td>\n",
       "      <td>0</td>\n",
       "      <td>0</td>\n",
       "      <td>1</td>\n",
       "      <td>1</td>\n",
       "      <td>1</td>\n",
       "      <td>1</td>\n",
       "      <td>0</td>\n",
       "      <td>0</td>\n",
       "      <td>4</td>\n",
       "      <td>0</td>\n",
       "      <td>0</td>\n",
       "      <td>1</td>\n",
       "    </tr>\n",
       "    <tr>\n",
       "      <th>1</th>\n",
       "      <td>1</td>\n",
       "      <td>0</td>\n",
       "      <td>0</td>\n",
       "      <td>1</td>\n",
       "      <td>0</td>\n",
       "      <td>0</td>\n",
       "      <td>0</td>\n",
       "      <td>1</td>\n",
       "      <td>1</td>\n",
       "      <td>1</td>\n",
       "      <td>0</td>\n",
       "      <td>0</td>\n",
       "      <td>4</td>\n",
       "      <td>1</td>\n",
       "      <td>0</td>\n",
       "      <td>1</td>\n",
       "    </tr>\n",
       "    <tr>\n",
       "      <th>2</th>\n",
       "      <td>1</td>\n",
       "      <td>0</td>\n",
       "      <td>0</td>\n",
       "      <td>1</td>\n",
       "      <td>0</td>\n",
       "      <td>0</td>\n",
       "      <td>1</td>\n",
       "      <td>1</td>\n",
       "      <td>1</td>\n",
       "      <td>1</td>\n",
       "      <td>0</td>\n",
       "      <td>0</td>\n",
       "      <td>4</td>\n",
       "      <td>0</td>\n",
       "      <td>0</td>\n",
       "      <td>1</td>\n",
       "    </tr>\n",
       "    <tr>\n",
       "      <th>3</th>\n",
       "      <td>1</td>\n",
       "      <td>0</td>\n",
       "      <td>0</td>\n",
       "      <td>1</td>\n",
       "      <td>0</td>\n",
       "      <td>0</td>\n",
       "      <td>1</td>\n",
       "      <td>1</td>\n",
       "      <td>1</td>\n",
       "      <td>1</td>\n",
       "      <td>0</td>\n",
       "      <td>0</td>\n",
       "      <td>4</td>\n",
       "      <td>1</td>\n",
       "      <td>0</td>\n",
       "      <td>1</td>\n",
       "    </tr>\n",
       "    <tr>\n",
       "      <th>4</th>\n",
       "      <td>1</td>\n",
       "      <td>0</td>\n",
       "      <td>0</td>\n",
       "      <td>1</td>\n",
       "      <td>0</td>\n",
       "      <td>0</td>\n",
       "      <td>0</td>\n",
       "      <td>1</td>\n",
       "      <td>1</td>\n",
       "      <td>1</td>\n",
       "      <td>0</td>\n",
       "      <td>0</td>\n",
       "      <td>4</td>\n",
       "      <td>1</td>\n",
       "      <td>0</td>\n",
       "      <td>1</td>\n",
       "    </tr>\n",
       "  </tbody>\n",
       "</table>\n",
       "</div>"
      ],
      "text/plain": [
       "   hair  feathers  eggs  milk  airborne  aquatic  predator  toothed  backbone  \\\n",
       "0     1         0     0     1         0        0         1        1         1   \n",
       "1     1         0     0     1         0        0         0        1         1   \n",
       "2     1         0     0     1         0        0         1        1         1   \n",
       "3     1         0     0     1         0        0         1        1         1   \n",
       "4     1         0     0     1         0        0         0        1         1   \n",
       "\n",
       "   breathes  venomous  fins  legs  tail  domestic  catsize  \n",
       "0         1         0     0     4     0         0        1  \n",
       "1         1         0     0     4     1         0        1  \n",
       "2         1         0     0     4     0         0        1  \n",
       "3         1         0     0     4     1         0        1  \n",
       "4         1         0     0     4     1         0        1  "
      ]
     },
     "execution_count": 3,
     "metadata": {},
     "output_type": "execute_result"
    }
   ],
   "source": [
    "#mencoba memanggil 5 data pertama\n",
    "tampildata = pd.DataFrame(dataset)\n",
    "tampildata.head()"
   ]
  },
  {
   "cell_type": "code",
   "execution_count": 4,
   "metadata": {},
   "outputs": [
    {
     "name": "stdout",
     "output_type": "stream",
     "text": [
      "[[1 0 0 1 0 0 1 1 1 1 0 0 4 0 0 1]\n",
      " [1 0 0 1 0 0 0 1 1 1 0 0 4 1 0 1]\n",
      " [1 0 0 1 0 0 1 1 1 1 0 0 4 0 0 1]\n",
      " [1 0 0 1 0 0 1 1 1 1 0 0 4 1 0 1]\n",
      " [1 0 0 1 0 0 0 1 1 1 0 0 4 1 0 1]\n",
      " [1 0 0 1 0 0 0 1 1 1 0 0 4 1 1 1]\n",
      " [1 0 0 1 0 0 0 1 1 1 0 0 4 0 1 0]\n",
      " [1 0 0 1 0 0 1 1 1 1 0 0 4 1 0 1]\n",
      " [0 1 1 0 1 0 0 0 1 1 0 0 2 1 1 0]\n",
      " [0 1 1 0 1 0 1 0 1 1 0 0 2 1 0 0]\n",
      " [1 0 0 1 0 0 0 1 1 1 0 0 4 1 0 1]\n",
      " [0 0 0 1 0 1 1 1 1 1 0 1 0 1 0 1]\n",
      " [0 1 1 0 1 0 0 0 1 1 0 0 2 1 1 0]\n",
      " [0 1 1 0 1 1 0 0 1 1 0 0 2 1 0 0]\n",
      " [1 0 0 1 0 0 0 1 1 1 0 0 4 1 0 1]\n",
      " [0 1 1 0 1 0 0 0 1 1 0 0 2 1 0 1]\n",
      " [1 0 0 1 1 0 0 1 1 1 0 0 2 1 0 0]\n",
      " [1 0 0 1 0 0 0 1 1 1 0 0 4 1 0 1]\n",
      " [1 0 0 1 0 0 1 1 1 1 0 0 2 0 1 1]\n",
      " [1 0 0 1 0 0 0 1 1 1 0 0 4 1 1 1]\n",
      " [1 0 0 1 0 0 0 1 1 1 0 0 2 0 0 1]\n",
      " [0 1 1 0 1 1 1 0 1 1 0 0 2 1 0 0]\n",
      " [1 0 0 1 0 0 0 1 1 1 0 0 4 1 1 0]\n",
      " [1 0 0 1 0 0 0 1 1 1 0 0 4 1 0 0]\n",
      " [0 1 1 0 1 0 1 0 1 1 0 0 2 1 0 0]\n",
      " [0 1 1 0 0 0 1 0 1 1 0 0 2 1 0 0]\n",
      " [0 1 1 0 1 0 0 0 1 1 0 0 2 1 0 0]\n",
      " [1 0 0 1 0 0 1 1 1 1 0 0 4 1 0 1]\n",
      " [1 0 0 1 0 0 1 1 1 1 0 0 4 1 0 1]\n",
      " [1 0 0 1 0 0 1 1 1 1 0 0 4 1 0 1]\n",
      " [1 0 0 1 0 1 1 1 1 1 0 0 4 1 0 1]\n",
      " [1 0 0 1 0 0 1 1 1 1 0 0 4 1 0 0]\n",
      " [1 0 0 1 0 0 1 1 1 1 0 0 4 1 0 1]\n",
      " [1 0 0 1 0 0 1 1 1 1 0 0 4 1 0 0]\n",
      " [1 0 0 1 0 0 0 1 1 1 0 0 4 1 0 1]\n",
      " [0 1 1 0 0 0 0 0 1 1 0 0 2 1 0 1]\n",
      " [0 1 1 0 1 0 0 0 1 1 0 0 2 1 1 0]\n",
      " [0 1 1 0 0 1 1 0 1 1 0 0 2 1 0 1]\n",
      " [0 1 1 0 1 0 0 0 1 1 0 0 2 1 0 0]\n",
      " [1 0 1 1 0 1 1 0 1 1 0 0 4 1 0 1]\n",
      " [1 0 0 1 0 0 1 1 1 1 0 0 4 1 0 1]\n",
      " [1 0 0 1 0 0 0 1 1 1 0 0 4 1 1 1]\n",
      " [0 0 0 1 0 1 1 1 1 1 0 1 0 1 0 1]\n",
      " [1 0 0 1 0 0 1 1 1 1 0 0 4 1 0 1]\n",
      " [1 0 0 1 0 0 1 1 1 1 0 0 4 1 1 1]\n",
      " [1 0 0 1 0 0 1 1 1 1 0 0 4 1 0 1]\n",
      " [1 0 0 1 0 0 0 1 1 1 0 0 4 1 1 1]\n",
      " [0 1 1 0 0 0 1 0 1 1 0 0 2 1 0 1]\n",
      " [1 0 0 1 0 1 1 1 1 1 0 1 0 0 0 1]\n",
      " [1 0 0 1 0 1 1 1 1 1 0 1 2 1 0 1]\n",
      " [0 1 1 0 1 1 1 0 1 1 0 0 2 1 0 0]\n",
      " [0 1 1 0 1 1 1 0 1 1 0 0 2 1 0 0]\n",
      " [0 1 1 0 1 0 0 0 1 1 0 0 2 1 0 0]\n",
      " [1 0 0 1 0 0 0 1 1 1 0 0 2 1 0 0]\n",
      " [0 1 1 0 1 1 0 0 1 1 0 0 2 1 0 1]\n",
      " [1 0 0 1 1 0 0 1 1 1 0 0 2 1 0 0]\n",
      " [1 0 0 1 0 0 0 1 1 1 0 0 4 1 0 0]\n",
      " [0 1 1 0 1 0 1 0 1 1 0 0 2 1 0 1]\n",
      " [1 0 0 1 0 0 0 1 1 1 0 0 2 1 0 1]\n",
      " [1 0 0 1 0 0 1 1 1 1 0 0 4 1 0 1]\n",
      " [0 1 1 0 1 0 0 0 1 1 0 0 2 1 0 0]]\n"
     ]
    }
   ],
   "source": [
    "#konversi ke data array\n",
    "X = np.asarray(dataset)\n",
    "print(X)"
   ]
  },
  {
   "cell_type": "code",
   "execution_count": 5,
   "metadata": {},
   "outputs": [
    {
     "data": {
      "image/png": "[encoded data removed]",
      "text/plain": [
       "<Figure size 640x480 with 1 Axes>"
      ]
     },
     "metadata": {},
     "output_type": "display_data"
    }
   ],
   "source": [
    "#menampilkan data dalam bentuk scatter plot\n",
    "plt.scatter(X[:,0], X[:,1], label ='True Position')\n",
    "plt.xlabel(\"hair\")\n",
    "plt.ylabel(\"feathers\")\n",
    "plt.title(\"grafik hasil klasterisasi data hair dan fearhers\")\n",
    "plt.show()"
   ]
  },
  {
   "cell_type": "code",
   "execution_count": 6,
   "metadata": {},
   "outputs": [
    {
     "name": "stderr",
     "output_type": "stream",
     "text": [
      "C:\\Users\\ACER\\AppData\\Roaming\\Python\\Python311\\site-packages\\sklearn\\cluster\\_kmeans.py:870: FutureWarning: The default value of `n_init` will change from 10 to 'auto' in 1.4. Set the value of `n_init` explicitly to suppress the warning\n",
      "  warnings.warn(\n"
     ]
    },
    {
     "data": {
      "text/html": [
       "<style>#sk-container-id-1 {color: black;background-color: white;}#sk-container-id-1 pre{padding: 0;}#sk-container-id-1 div.sk-toggleable {background-color: white;}#sk-container-id-1 label.sk-toggleable__label {cursor: pointer;display: block;width: 100%;margin-bottom: 0;padding: 0.3em;box-sizing: border-box;text-align: center;}#sk-container-id-1 label.sk-toggleable__label-arrow:before {content: \"▸\";float: left;margin-right: 0.25em;color: #696969;}#sk-container-id-1 label.sk-toggleable__label-arrow:hover:before {color: black;}#sk-container-id-1 div.sk-estimator:hover label.sk-toggleable__label-arrow:before {color: black;}#sk-container-id-1 div.sk-toggleable__content {max-height: 0;max-width: 0;overflow: hidden;text-align: left;background-color: #f0f8ff;}#sk-container-id-1 div.sk-toggleable__content pre {margin: 0.2em;color: black;border-radius: 0.25em;background-color: #f0f8ff;}#sk-container-id-1 input.sk-toggleable__control:checked~div.sk-toggleable__content {max-height: 200px;max-width: 100%;overflow: auto;}#sk-container-id-1 input.sk-toggleable__control:checked~label.sk-toggleable__label-arrow:before {content: \"▾\";}#sk-container-id-1 div.sk-estimator input.sk-toggleable__control:checked~label.sk-toggleable__label {background-color: #d4ebff;}#sk-container-id-1 div.sk-label input.sk-toggleable__control:checked~label.sk-toggleable__label {background-color: #d4ebff;}#sk-container-id-1 input.sk-hidden--visually {border: 0;clip: rect(1px 1px 1px 1px);clip: rect(1px, 1px, 1px, 1px);height: 1px;margin: -1px;overflow: hidden;padding: 0;position: absolute;width: 1px;}#sk-container-id-1 div.sk-estimator {font-family: monospace;background-color: #f0f8ff;border: 1px dotted black;border-radius: 0.25em;box-sizing: border-box;margin-bottom: 0.5em;}#sk-container-id-1 div.sk-estimator:hover {background-color: #d4ebff;}#sk-container-id-1 div.sk-parallel-item::after {content: \"\";width: 100%;border-bottom: 1px solid gray;flex-grow: 1;}#sk-container-id-1 div.sk-label:hover label.sk-toggleable__label {background-color: #d4ebff;}#sk-container-id-1 div.sk-serial::before {content: \"\";position: absolute;border-left: 1px solid gray;box-sizing: border-box;top: 0;bottom: 0;left: 50%;z-index: 0;}#sk-container-id-1 div.sk-serial {display: flex;flex-direction: column;align-items: center;background-color: white;padding-right: 0.2em;padding-left: 0.2em;position: relative;}#sk-container-id-1 div.sk-item {position: relative;z-index: 1;}#sk-container-id-1 div.sk-parallel {display: flex;align-items: stretch;justify-content: center;background-color: white;position: relative;}#sk-container-id-1 div.sk-item::before, #sk-container-id-1 div.sk-parallel-item::before {content: \"\";position: absolute;border-left: 1px solid gray;box-sizing: border-box;top: 0;bottom: 0;left: 50%;z-index: -1;}#sk-container-id-1 div.sk-parallel-item {display: flex;flex-direction: column;z-index: 1;position: relative;background-color: white;}#sk-container-id-1 div.sk-parallel-item:first-child::after {align-self: flex-end;width: 50%;}#sk-container-id-1 div.sk-parallel-item:last-child::after {align-self: flex-start;width: 50%;}#sk-container-id-1 div.sk-parallel-item:only-child::after {width: 0;}#sk-container-id-1 div.sk-dashed-wrapped {border: 1px dashed gray;margin: 0 0.4em 0.5em 0.4em;box-sizing: border-box;padding-bottom: 0.4em;background-color: white;}#sk-container-id-1 div.sk-label label {font-family: monospace;font-weight: bold;display: inline-block;line-height: 1.2em;}#sk-container-id-1 div.sk-label-container {text-align: center;}#sk-container-id-1 div.sk-container {/* jupyter's `normalize.less` sets `[hidden] { display: none; }` but bootstrap.min.css set `[hidden] { display: none !important; }` so we also need the `!important` here to be able to override the default hidden behavior on the sphinx rendered scikit-learn.org. See: https://github.com/scikit-learn/scikit-learn/issues/21755 */display: inline-block !important;position: relative;}#sk-container-id-1 div.sk-text-repr-fallback {display: none;}</style><div id=\"sk-container-id-1\" class=\"sk-top-container\"><div class=\"sk-text-repr-fallback\"><pre>KMeans(n_clusters=2)</pre><b>In a Jupyter environment, please rerun this cell to show the HTML representation or trust the notebook. <br />On GitHub, the HTML representation is unable to render, please try loading this page with nbviewer.org.</b></div><div class=\"sk-container\" hidden><div class=\"sk-item\"><div class=\"sk-estimator sk-toggleable\"><input class=\"sk-toggleable__control sk-hidden--visually\" id=\"sk-estimator-id-1\" type=\"checkbox\" checked><label for=\"sk-estimator-id-1\" class=\"sk-toggleable__label sk-toggleable__label-arrow\">KMeans</label><div class=\"sk-toggleable__content\"><pre>KMeans(n_clusters=2)</pre></div></div></div></div></div>"
      ],
      "text/plain": [
       "KMeans(n_clusters=2)"
      ]
     },
     "execution_count": 6,
     "metadata": {},
     "output_type": "execute_result"
    }
   ],
   "source": [
    "Km = KMeans(n_clusters=2)\n",
    "Km.fit(X)"
   ]
  },
  {
   "cell_type": "code",
   "execution_count": 7,
   "metadata": {},
   "outputs": [
    {
     "name": "stdout",
     "output_type": "stream",
     "text": [
      "[[ 2.66666667e-01  6.66666667e-01  6.66666667e-01  3.33333333e-01\n",
      "   6.00000000e-01  3.33333333e-01  4.66666667e-01  3.33333333e-01\n",
      "   1.00000000e+00  1.00000000e+00  0.00000000e+00  1.33333333e-01\n",
      "   1.80000000e+00  9.00000000e-01  1.33333333e-01  4.33333333e-01]\n",
      " [ 1.00000000e+00  0.00000000e+00  3.22580645e-02  1.00000000e+00\n",
      "   5.55111512e-17  6.45161290e-02  5.48387097e-01  9.67741935e-01\n",
      "   1.00000000e+00  1.00000000e+00  0.00000000e+00 -2.77555756e-17\n",
      "   4.00000000e+00  9.03225806e-01  2.25806452e-01  8.06451613e-01]]\n"
     ]
    }
   ],
   "source": [
    "print(Km.cluster_centers_)"
   ]
  },
  {
   "cell_type": "code",
   "execution_count": 8,
   "metadata": {},
   "outputs": [
    {
     "data": {
      "image/png": "[encoded data removed]",
      "text/plain": [
       "<Figure size 640x480 with 1 Axes>"
      ]
     },
     "metadata": {},
     "output_type": "display_data"
    }
   ],
   "source": [
    "plt.scatter(X[:,0], X[:,1], c=Km.labels_, cmap='rainbow')\n",
    "plt.xlabel(\"hair\")\n",
    "plt.ylabel(\"feathers\")\n",
    "plt.title(\"grafik hasil klasterisasi data hair dan fearthers\")\n",
    "plt.show()"
   ]
  },
  {
   "cell_type": "code",
   "execution_count": 9,
   "metadata": {},
   "outputs": [
    {
     "data": {
      "image/png": "[encoded data removed]",
      "text/plain": [
       "<Figure size 640x480 with 1 Axes>"
      ]
     },
     "metadata": {},
     "output_type": "display_data"
    }
   ],
   "source": [
    "plt.scatter(X[:,0], X[:,1], c=Km.labels_, cmap='rainbow')\n",
    "plt.scatter(Km.cluster_centers_[:,0], Km.cluster_centers_[:,1], color='black')\n",
    "plt.xlabel(\"hair\")\n",
    "plt.ylabel(\"feathers\")\n",
    "plt.title(\"grafik hasil klasterisasi data hair dan fearthers\")\n",
    "plt.show()"
   ]
  }
 ],
 "metadata": {
  "kernelspec": {
   "display_name": "Python 3",
   "language": "python",
   "name": "python3"
  },
  "language_info": {
   "codemirror_mode": {
    "name": "ipython",
    "version": 3
   },
   "file_extension": ".py",
   "mimetype": "text/x-python",
   "name": "python",
   "nbconvert_exporter": "python",
   "pygments_lexer": "ipython3",
   "version": "3.11.0 (main, Oct 24 2022, 18:26:48) [MSC v.1933 64 bit (AMD64)]"
  },
  "orig_nbformat": 4,
  "vscode": {
   "interpreter": {
    "hash": "5238573367df39f7286bb46f9ff5f08f63a01a80960060ce41e3c79b190280fa"
   }
  }
 },
 "nbformat": 4,
 "nbformat_minor": 2
}
